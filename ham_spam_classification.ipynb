{
 "cells": [
  {
   "cell_type": "code",
   "execution_count": 1,
   "metadata": {},
   "outputs": [],
   "source": [
    "import numpy as np\n",
    "import pandas as pd"
   ]
  },
  {
   "cell_type": "code",
   "execution_count": 2,
   "metadata": {},
   "outputs": [
    {
     "data": {
      "text/html": [
       "<div>\n",
       "<style scoped>\n",
       "    .dataframe tbody tr th:only-of-type {\n",
       "        vertical-align: middle;\n",
       "    }\n",
       "\n",
       "    .dataframe tbody tr th {\n",
       "        vertical-align: top;\n",
       "    }\n",
       "\n",
       "    .dataframe thead th {\n",
       "        text-align: right;\n",
       "    }\n",
       "</style>\n",
       "<table border=\"1\" class=\"dataframe\">\n",
       "  <thead>\n",
       "    <tr style=\"text-align: right;\">\n",
       "      <th></th>\n",
       "      <th>label</th>\n",
       "      <th>review</th>\n",
       "    </tr>\n",
       "  </thead>\n",
       "  <tbody>\n",
       "    <tr>\n",
       "      <th>0</th>\n",
       "      <td>neg</td>\n",
       "      <td>how do films like mouse hunt get into theatres...</td>\n",
       "    </tr>\n",
       "    <tr>\n",
       "      <th>1</th>\n",
       "      <td>neg</td>\n",
       "      <td>some talented actresses are blessed with a dem...</td>\n",
       "    </tr>\n",
       "    <tr>\n",
       "      <th>2</th>\n",
       "      <td>pos</td>\n",
       "      <td>this has been an extraordinary year for austra...</td>\n",
       "    </tr>\n",
       "    <tr>\n",
       "      <th>3</th>\n",
       "      <td>pos</td>\n",
       "      <td>according to hollywood movies made in last few...</td>\n",
       "    </tr>\n",
       "    <tr>\n",
       "      <th>4</th>\n",
       "      <td>neg</td>\n",
       "      <td>my first press screening of 1998 and already i...</td>\n",
       "    </tr>\n",
       "  </tbody>\n",
       "</table>\n",
       "</div>"
      ],
      "text/plain": [
       "  label                                             review\n",
       "0   neg  how do films like mouse hunt get into theatres...\n",
       "1   neg  some talented actresses are blessed with a dem...\n",
       "2   pos  this has been an extraordinary year for austra...\n",
       "3   pos  according to hollywood movies made in last few...\n",
       "4   neg  my first press screening of 1998 and already i..."
      ]
     },
     "execution_count": 2,
     "metadata": {},
     "output_type": "execute_result"
    }
   ],
   "source": [
    "df = pd.read_csv('moviereviews.tsv', sep='\\t')\n",
    "df.head()"
   ]
  },
  {
   "cell_type": "code",
   "execution_count": 3,
   "metadata": {},
   "outputs": [
    {
     "data": {
      "text/markdown": [
       "> how do films like mouse hunt get into theatres ? \r\n",
       "isn't there a law or something ? \r\n",
       "this diabolical load of claptrap from steven speilberg's dreamworks studio is hollywood family fare at its deadly worst . \r\n",
       "mouse hunt takes the bare threads of a plot and tries to prop it up with overacting and flat-out stupid slapstick that makes comedies like jingle all the way look decent by comparison . \r\n",
       "writer adam rifkin and director gore verbinski are the names chiefly responsible for this swill . \r\n",
       "the plot , for what its worth , concerns two brothers ( nathan lane and an appalling lee evens ) who inherit a poorly run string factory and a seemingly worthless house from their eccentric father . \r\n",
       "deciding to check out the long-abandoned house , they soon learn that it's worth a fortune and set about selling it in auction to the highest bidder . \r\n",
       "but battling them at every turn is a very smart mouse , happy with his run-down little abode and wanting it to stay that way . \r\n",
       "the story alternates between unfunny scenes of the brothers bickering over what to do with their inheritance and endless action sequences as the two take on their increasingly determined furry foe . \r\n",
       "whatever promise the film starts with soon deteriorates into boring dialogue , terrible overacting , and increasingly uninspired slapstick that becomes all sound and fury , signifying nothing . \r\n",
       "the script becomes so unspeakably bad that the best line poor lee evens can utter after another run in with the rodent is : \" i hate that mouse \" . \r\n",
       "oh cringe ! \r\n",
       "this is home alone all over again , and ten times worse . \r\n",
       "one touching scene early on is worth mentioning . \r\n",
       "we follow the mouse through a maze of walls and pipes until he arrives at his makeshift abode somewhere in a wall . \r\n",
       "he jumps into a tiny bed , pulls up a makeshift sheet and snuggles up to sleep , seemingly happy and just wanting to be left alone . \r\n",
       "it's a magical little moment in an otherwise soulless film . \r\n",
       "a message to speilberg : if you want dreamworks to be associated with some kind of artistic credibility , then either give all concerned in mouse hunt a swift kick up the arse or hire yourself some decent writers and directors . \r\n",
       "this kind of rubbish will just not do at all . \r\n"
      ],
      "text/plain": [
       "<IPython.core.display.Markdown object>"
      ]
     },
     "metadata": {},
     "output_type": "display_data"
    },
    {
     "name": "stdout",
     "output_type": "stream",
     "text": [
      "--------------------------------------\n"
     ]
    },
    {
     "data": {
      "text/markdown": [
       "> some talented actresses are blessed with a demonstrated wide acting range while others , almost as gifted , have more limited types of parts for which they are suitable . \r\n",
       "as was amply evident after basic instinct , sharon stone can play sensual roles with great abandon . \r\n",
       "rejecting her natural abilities , she has spent the rest of her entire career trying with little success to play against type . \r\n",
       "gloria is her latest disaster . \r\n",
       "babe ruth didn't quit baseball after one season to play football in a quixotic quest to prove his athletic dexterity , and neither should stone reject what she does best . \r\n",
       "janeane garofalo , for example , is no less wonderful an actress because she could have never pulled off stone's part in basic instinct ; neither is stone any less talented because she couldn't do garofalo's comedic roles . \r\n",
       "gloria , directed by respected director sidney lumet and adapted by steve antin from the 1980 screenplay by john cassavetes , was not screened in advance for critics , almost always a sign that the studio isn't behind the picture . \r\n",
       "after seeing it in a nearly empty audience after it opened , it is clear why they held it from the press . \r\n",
       "it is a film more to be endured than enjoyed . \r\n",
       "as the story opens , an angry gloria ( stone ) is being released from prison after 3 years confinement . \r\n",
       "she's got a bad attitude and a big mouth . \r\n",
       "she also has a bad case of wavering and overblown new york accents , a disease suffered by much of the rest of the cast . \r\n",
       "an annoying child actor named jean-luke figueroa plays a soon-to-be orphan named nicky . \r\n",
       "just before his whole family is gunned down by hoods working for gloria's ex-boyfriend kevin ( jeremy northam ) , nicky's dad gives him a banana yellow floppy disk with secrets about kevin's operation and offers him a piece of fatherly advice . \r\n",
       " \" be a man , \" his father lectures him sternly . \r\n",
       " \" don't trust nobody . \r\n",
       "not no broads . \r\n",
       "nobody . \" \r\n",
       "most of the film's leaden dialog is delivered with the emotive power of the automated time and temperature announcements . \r\n",
       "add in the movie's almost non-existent background noise and the excruciatingly slow pacing , and you can hear the sounds of the lines falling to the ground like stones . \r\n",
       "lumet places his actors in the frames like fruit in a still life painting . \r\n",
       "they stand awkwardly mouthing the stiff sentences that pass for discourse . \r\n",
       " ( \" say you're my baby , \" kevin coos demandingly . \r\n",
       " \" i'm not gonna , \" gloria pouts back . ) \r\n",
       "the movie has a plethora of logical flaws and implausibilites . \r\n",
       "the kid rarely seems the least bit worried or scared , no matter how many people are after him with guns , trying to kill him . \r\n",
       "and in one key scene , the yellow floppy he holds is assumed to be the right disk without checking it and is further assumed never to have been copied . \r\n",
       "gloria , who keeps saying how she hates kids , takes nicky under her wing and protects him from kevin and the bad guys . \r\n",
       "think her maternal instincts will show up before the movie finally and predictably ends ? \r\n",
       "if you don't know the answer , you may be just the right viewer for this film . \r\n",
       "you have to say this for stone : she can keep a straight face . \r\n",
       "when explaining life to a 7-year-old kid , she says with utter seriousness , \" you got a lot of love making to make ; you got a lot of boozing to do . \" \r\n",
       "gloria runs 1 : 48 . \r\n",
       "it is rated r for profanity , violence and brief male nudity and would be acceptable for teenagers . \r\n"
      ],
      "text/plain": [
       "<IPython.core.display.Markdown object>"
      ]
     },
     "metadata": {},
     "output_type": "display_data"
    },
    {
     "name": "stdout",
     "output_type": "stream",
     "text": [
      "--------------------------------------\n"
     ]
    },
    {
     "data": {
      "text/markdown": [
       "> this has been an extraordinary year for australian films . \r\n",
       " \" shine \" has just scooped the pool at the australian film institute awards , picking up best film , best actor , best director etc . to that we can add the gritty \" life \" ( the anguish , courage and friendship of a group of male prisoners in the hiv-positive section of a jail ) and \" love and other catastrophes \" ( a low budget gem about straight and gay love on and near a university campus ) . \r\n",
       "i can't recall a year in which such a rich and varied celluloid library was unleashed from australia . \r\n",
       " \" shine \" was one bookend . \r\n",
       "stand by for the other one : \" dead heart \" . \r\n",
       ">from the opening credits the theme of division is established . \r\n",
       "the cast credits have clear and distinct lines separating their first and last names . \r\n",
       "bryan | brown . \r\n",
       "in a desert settlement , hundreds of kilometres from the nearest town , there is an uneasy calm between the local aboriginals and the handful of white settlers who live nearby . \r\n",
       "the local police officer has the task of enforcing \" white man's justice \" to the aboriginals . \r\n",
       "these are people with a proud 40 , 000 year heritage behind them . \r\n",
       "naturally , this includes their own system of justice ; key to which is \" payback \" . \r\n",
       "an eye for an eye . \r\n",
       "revenge . \r\n",
       "usually extracted by the spearing through of the recipient's thigh . \r\n",
       "brown , as the officer , manages quite well to keep the balance . \r\n",
       "he admits that he has to 'bend the rules' a bit , including actively encouraging at least one brutal \" payback \" . \r\n",
       " ( be warned that this scene , near the start , is not for the squeamish ) . \r\n",
       "the local priest - an aboriginal , but in the \" white fellas \" church - has a foot on either side of the line . \r\n",
       "he is , figuratively and literally , in both camps . \r\n",
       "ernie dingo brings a great deal of understanding to this role as the man in the middle . \r\n",
       "he is part churchman and part politician . \r\n",
       "however the tension , like the heat , flies and dust , is always there . \r\n",
       "whilst her husband - the local teacher - is in church , white lady kate ( milliken ) and her aborginal friend tony , ( pedersen ) have gone off into the hills . \r\n",
       "he takes her to a sacred site , even today strictly men-only . \r\n",
       "she appears to not know this . \r\n",
       "tony tells her that this is a special place , an initiation place . \r\n",
       "he then makes love to her , surrounded by ancient rock art . \r\n",
       "the community finds out about this sacrilegious act and it's payback time . \r\n",
       "the fuse is lit and the brittle inter-racial peace is shattered . \r\n",
       "everyone is affected in the fall out . \r\n",
       "to say more is to give away the details of this finely crafted film . \r\n",
       "suffice to say it's a rewarding experience . \r\n",
       "bryan brown , acting and co-producing , is the pivotal character . \r\n",
       "his officer is real , human and therefore flawed . \r\n",
       "brown comments that he expects audiences to feel warmth towards the man , then suddenly feel angry about him . \r\n",
       "it wasn't long ago that i visited central australia - ayers rock ( uluru ) and alice springs - for the first time . \r\n",
       "the wide-screen cinematography shows the dead heart of australia in a way that captures it's vicious beauty , but never deteriorates into a moving slide show , in which the gorgeous background dominates those pesky actors in the foreground . \r\n",
       "the cultural clash has provided the thesis for many a film ; from the western to the birdcage . \r\n",
       "at least three excellent australian films have covered the aboriginal people and the line between them and we anglo-saxon 'invaders' : \" jedda \" , \" the chant of jimmie blacksmith \" and \" the last wave \" . \r\n",
       "in a year when the race 'debate' has reared up in australia , it is nourishing to see such an intelligent , non-judgemental film as \" dead heart \" . \r\n",
       "the aboriginal priest best sums this up . \r\n",
       "he is asked to say if he is a \" black fella or white fella \" . \r\n"
      ],
      "text/plain": [
       "<IPython.core.display.Markdown object>"
      ]
     },
     "metadata": {},
     "output_type": "display_data"
    },
    {
     "name": "stdout",
     "output_type": "stream",
     "text": [
      "--------------------------------------\n"
     ]
    },
    {
     "data": {
      "text/markdown": [
       "> according to hollywood movies made in last few decades , life in small town is one of the worst things that could happen to a human being . \r\n",
       "even worse fate awaits those who were unfortunate to grow up in those dark , god-forsaken places and later forced to live forever traumatised by the experience . \r\n",
       "on the other hand , it seems that something more than atlantic ocean divides europe from america , because one of the most popular and beloved european films takes exactly the opposite view . \r\n",
       "this film is amarcord , 1974 comedy by famous italian director federico fellini , which later gave inspiration to numerous imitations and homages , and even led few american screen artists to adopt its heretical views about benefits of small town life . \r\n",
       "the film is based on the screenplay by fellini and tonino guerra and it lacks the plot in usual sense . \r\n",
       "instead we follow one year in 1930s italian summer resort town of rimini through the series of short vignettes that depict various local events and customs , as well as series of local , often very colourful characters . \r\n",
       "although many of those characters occasionally take the role of narrator , movie concentrates on its nominal protagonist , 14-year old boy titta ( played by bruno zanin ) and chronicles his sexual frustrations , obsession with local beauty queen named gradisca ( played by magali noel ) , problems in his lovingly dysfunctional family , as well as troubles his father ( played by armando brancia ) have with mussolini's fascist regime . \r\n",
       "amarcord was often noted as the ultimate nostalgia film , and it probably explains why it is very popular , even among those people who actually don't like federico fellini's work very much . \r\n",
       "every member of its potential audience would find part of himself or herself in this film , because fellini in this film clearly illustrates natural human desire to paint past in the best way possible . \r\n",
       "distortion between actual past and its subjective interpretation could be found even in the title of the film - word \" amarcord \" is nothing more than badly pronounced phrase \" i remember \" in local italian dialect . \r\n",
       "in the same way the word is distorted , so is the past in memories of those who remember it . \r\n",
       "after the premiere , fellini rejected any claims about autobiographical character of this film , but it doesn't matter whether rimini of amarcord actually resembles rimini of fellini's childhood or not ; any place and any time could resemble characters and situations of this film . \r\n",
       "fellini's views on nostalgia are clearly illustrated with a way he mixes reality and fantasy in this film . \r\n",
       "even the most naturalistic scenes are laced with dark humour and grotesque images . \r\n",
       "characters look like caricatures , actors playing them often deliberately overact , and women , especially those who fuel titta's sexual fantasies , often have certain body parts with gargantuan proportions . \r\n",
       "every now and then , scenes that depict 1930s reality gradually slide into fantasies of movie's characters and rimini becomes almost indistinguishable from the magical place in characters' visions . \r\n",
       "because of that , almost everything in this film looks different , and in most cases better , than it would have looked in the real life . \r\n",
       "even the fascism gets fellinian make-over - fellini views mussolini's totalitarian regime as nothing more than visual spectacle ( explaining why similar regimes enjoyed such popular support throughout history ) and opportunity for comedy . \r\n",
       "when fascists finally show their true colours and begin torturing their opponents , even this becomes opportunity for scenes of macabre humour . \r\n",
       "unlike many of his italian colleagues in 1970s , who had used 1930s period setting to explicitly condemn fascism and serve fashionable political agenda , fellini doesn't care that much about politics . \r\n",
       "lack of self-righteous moral perspective is compensated with fellini's humanistic approach to his characters . \r\n",
       "each of them , regardless of age , gender , social class or physical appearance , is given opportunity to express his or her views , dreams and fears . \r\n",
       "fellini treats all those characters with warmth and affection , even when he paints them as grotesque caricatures of real people . \r\n",
       "because of this warmth and democratic spirit , amarcord could be viewed as one of the most humane films of 20th century , and it keeps its general feel good atmosphere despite depicting having many uncomfortable , melancholic and even tragic moments . \r\n",
       "fellini couldn't produce such effects without using his own directorial talent that gave a very personal touch to this movie . \r\n",
       "vignettes aren't memorable because of the characters only ; fellini uses camera , painting film in bright colours , especially in the scenes that depict character's fantasies . \r\n",
       "fellini also knows how to use locations , whether such location happens to be luxurious hotel , bright-coloured beach or rural countryside . \r\n",
       "even the down-to-earth streets of rimini , where everyone knows everyone , gets magical dimension during the snowfall . \r\n",
       "on the other hand , lack of credible special effects somewhat diminished the same effect during the ocean liner scene . \r\n",
       "this atmosphere is also provided by incredible talent of composer and fellini's long-time associate nino rota . \r\n",
       "his amarcord theme is probably one of the most recognisable , most popular and most relaxing and uplifting pieces of film music ever produced . \r\n",
       "that music alone should be the reason to view amarcord as one of the indisputable classics of seventh art . \r\n"
      ],
      "text/plain": [
       "<IPython.core.display.Markdown object>"
      ]
     },
     "metadata": {},
     "output_type": "display_data"
    },
    {
     "name": "stdout",
     "output_type": "stream",
     "text": [
      "--------------------------------------\n"
     ]
    },
    {
     "data": {
      "text/markdown": [
       "> my first press screening of 1998 and already i've gotten a prime candidate for my worst ten of the year list . \r\n",
       "what an auspicious beginning ! \r\n",
       "welcome to the dog days of winter when the only film openings of merit are those oscar contenders that the studios opened in late december in new york and l . a . and which are just now beginning to appear elsewhere . \r\n",
       "firestorm , the directorial debut of dances with wolves's academy award winning cinematographer dean semler , is the first of the new year's crop of movies . \r\n",
       "as our story opens , the movie pretentiously informs us that of the tens of thousands of firefighters only 400 are \" smokejumpers . \" \r\n",
       "we then cut to a plane load of smoke jumping cowboys and one cowgirl , where one of the gung-ho guys is taking a romance quiz from \" cosmopolitan . \" \r\n",
       "having the time of their lives , they then jump into the middle of a burning forest . \r\n",
       "when , even in the beginning , the director can't get the small parts right , you can sense the movie is in trouble . \r\n",
       "with the noisy fire roaring all about them and with the trapped people huddled near their gasoline-filled cars , smokejumper monica ( christianne hirt ) tells them to get away from their soon-to-explode vehicles . \r\n",
       "not bothering to shout nor even get close to them , she announces her warning without raising her voice much or approaching the people . \r\n",
       "miraculously , they manage to hear her and move away . \r\n",
       "in a movie that specializes in cheap shots , the camera locates the proverbial young girl trapped in a nearby burning building . \r\n",
       "as it does throughout , overly dramatic cinematographer stephen f . windon from the postman uses extremely fast zooms right down to the endangered girl's face . \r\n",
       "our show's two heroes , the crew's chief , wynt perkins , played laconically by scott glenn , and his second-in-command , jesse graves , played by howie long in a weak attempt to be the next steven seagal , enter the burning house looking for the little girl . \r\n",
       "in a panic they have difficulty in locating her before they are engulfed in flames . \r\n",
       "the manipulative script has her hidden in her own dollhouse . \r\n",
       "this mawkish show cuts back to monica , who has a life-or-death decision to make . \r\n",
       "the chopper with the fire-retardant chemicals has only enough to save one group . \r\n",
       "will it be the large group near the cars or the helpless little girl and monica's two firefighting buddies ? \r\n",
       "she has only seconds to decide who will be saved . \r\n",
       "yes , she goes for the majority , but , miracle of miracles , the other three come out alive anyway . \r\n",
       "not content with a traditional firefighting story , chris soth's screenplay attempts to jazz it up by having william forsythe from palookaville play a vicious killer named randy earl shaye who sets a forest fire so that he can join the crew to put it out and then escape . \r\n",
       " ( \" hoods in the woods , \" is what the \" ground-pounders \" yell out when the convicts are bused in to help them fight the fire . ) \r\n",
       "along the way , shaye picks up an ornithologist hostage played by suzy amis , who turns out to have been trained in warrior ways by her father , who was a marine drill instructor . \r\n",
       "most of the highly predictable movie is a long chase in which poor howie long is given one ridiculous stunt after another to look silly performing . \r\n",
       "he flings a chain saw backwards over his head while riding a speeding motorcycle so that the saw can hit the windshield of the pursuing truck . \r\n",
       "arguably the low point is when he escapes from a locked burning building by riding a motorcycle conveniently parked inside . \r\n",
       "using a ramp , he shoots straight out of the top of the building's attic , and when he hits the ground , he just rides off in a cloud of dust . \r\n",
       "when the film isn't using some stock footage of actual forest fires , the simulated ones look hokey . \r\n",
       "editor jack hofstra cheapens the action even more by his use of burning flames in scene transitions . \r\n",
       "the ending , with its sick twists , manages to be even worse than the rest of the movie . \r\n",
       "perhaps the best that can be said for the picture is the faint praise i heard afterwards in the lobby , \" it's not as bad as some of the television sitcoms . \" \r\n",
       "firestorm runs mercifully just 1 : 29 . \r\n",
       "it is rated r for violence and language and would be acceptable for teenagers . \r\n"
      ],
      "text/plain": [
       "<IPython.core.display.Markdown object>"
      ]
     },
     "metadata": {},
     "output_type": "display_data"
    },
    {
     "name": "stdout",
     "output_type": "stream",
     "text": [
      "--------------------------------------\n"
     ]
    }
   ],
   "source": [
    "from IPython.display import Markdown, display\n",
    "for i in range(5):\n",
    "    display(Markdown('> '+df['review'][i]))\n",
    "    print('--------------------------------------')"
   ]
  },
  {
   "cell_type": "code",
   "execution_count": 5,
   "metadata": {},
   "outputs": [
    {
     "data": {
      "text/plain": [
       "2000"
      ]
     },
     "execution_count": 5,
     "metadata": {},
     "output_type": "execute_result"
    }
   ],
   "source": [
    "len(df)"
   ]
  },
  {
   "cell_type": "code",
   "execution_count": 11,
   "metadata": {},
   "outputs": [
    {
     "data": {
      "text/plain": [
       "label      0\n",
       "review    35\n",
       "dtype: int64"
      ]
     },
     "execution_count": 11,
     "metadata": {},
     "output_type": "execute_result"
    }
   ],
   "source": [
    "df.isnull().sum()"
   ]
  },
  {
   "cell_type": "code",
   "execution_count": 12,
   "metadata": {},
   "outputs": [],
   "source": [
    "df.dropna(inplace=True)"
   ]
  },
  {
   "cell_type": "code",
   "execution_count": 13,
   "metadata": {},
   "outputs": [
    {
     "data": {
      "text/plain": [
       "label     0\n",
       "review    0\n",
       "dtype: int64"
      ]
     },
     "execution_count": 13,
     "metadata": {},
     "output_type": "execute_result"
    }
   ],
   "source": [
    "df.isnull().sum()"
   ]
  },
  {
   "cell_type": "code",
   "execution_count": 14,
   "metadata": {},
   "outputs": [
    {
     "name": "stdout",
     "output_type": "stream",
     "text": [
      "27 blanks:  [57, 71, 147, 151, 283, 307, 313, 323, 343, 351, 427, 501, 633, 675, 815, 851, 977, 1079, 1299, 1455, 1493, 1525, 1531, 1763, 1851, 1905, 1993]\n"
     ]
    }
   ],
   "source": [
    "blanks = []\n",
    "\n",
    "for i,lb,rv in df.itertuples():  \n",
    "    if type(rv)==str:            \n",
    "        if rv.isspace():         \n",
    "            blanks.append(i)     \n",
    "        \n",
    "print(len(blanks), 'blanks: ', blanks)"
   ]
  },
  {
   "cell_type": "code",
   "execution_count": 15,
   "metadata": {},
   "outputs": [
    {
     "data": {
      "text/plain": [
       "1938"
      ]
     },
     "execution_count": 15,
     "metadata": {},
     "output_type": "execute_result"
    }
   ],
   "source": [
    "df.drop(blanks, inplace=True)\n",
    "len(df)"
   ]
  },
  {
   "cell_type": "code",
   "execution_count": 16,
   "metadata": {},
   "outputs": [
    {
     "data": {
      "text/plain": [
       "pos    969\n",
       "neg    969\n",
       "Name: label, dtype: int64"
      ]
     },
     "execution_count": 16,
     "metadata": {},
     "output_type": "execute_result"
    }
   ],
   "source": [
    "df['label'].value_counts()"
   ]
  },
  {
   "cell_type": "code",
   "execution_count": 17,
   "metadata": {},
   "outputs": [],
   "source": [
    "from sklearn.model_selection import train_test_split\n",
    "X = df['review']\n",
    "y = df['label']\n",
    "\n",
    "X_train, X_test, y_train, y_test = train_test_split(X, y, test_size=0.33, random_state=42)"
   ]
  },
  {
   "cell_type": "code",
   "execution_count": 19,
   "metadata": {},
   "outputs": [
    {
     "data": {
      "text/plain": [
       "(neg    661\n",
       " pos    637\n",
       " Name: label, dtype: int64,\n",
       " pos    332\n",
       " neg    308\n",
       " Name: label, dtype: int64)"
      ]
     },
     "execution_count": 19,
     "metadata": {},
     "output_type": "execute_result"
    }
   ],
   "source": [
    "y_train.value_counts() , y_test.value_counts() "
   ]
  },
  {
   "cell_type": "code",
   "execution_count": 20,
   "metadata": {},
   "outputs": [
    {
     "data": {
      "text/plain": [
       "Pipeline(memory=None,\n",
       "         steps=[('tfidf',\n",
       "                 TfidfVectorizer(analyzer='word', binary=False,\n",
       "                                 decode_error='strict',\n",
       "                                 dtype=<class 'numpy.float64'>,\n",
       "                                 encoding='utf-8', input='content',\n",
       "                                 lowercase=True, max_df=1.0, max_features=None,\n",
       "                                 min_df=1, ngram_range=(1, 1), norm='l2',\n",
       "                                 preprocessor=None, smooth_idf=True,\n",
       "                                 stop_words=None, strip_accents=None,\n",
       "                                 sublinear_tf=False,\n",
       "                                 token_pattern='(?u)\\\\b\\\\w\\\\w+\\\\b',\n",
       "                                 tokenizer=None, use_idf=True,\n",
       "                                 vocabulary=None)),\n",
       "                ('clf',\n",
       "                 MultinomialNB(alpha=1.0, class_prior=None, fit_prior=True))],\n",
       "         verbose=False)"
      ]
     },
     "execution_count": 20,
     "metadata": {},
     "output_type": "execute_result"
    }
   ],
   "source": [
    "from sklearn.pipeline import Pipeline\n",
    "from sklearn.feature_extraction.text import TfidfVectorizer\n",
    "from sklearn.naive_bayes import MultinomialNB\n",
    "from sklearn.svm import LinearSVC\n",
    "\n",
    "text_clf_nb = Pipeline([('tfidf', TfidfVectorizer()),\n",
    "                     ('clf', MultinomialNB()),])\n",
    "\n",
    "text_clf_lsvc = Pipeline([('tfidf', TfidfVectorizer()),\n",
    "                     ('clf', LinearSVC()),])\n",
    "\n",
    "text_clf_nb.fit(X_train, y_train)\n"
   ]
  },
  {
   "cell_type": "code",
   "execution_count": 21,
   "metadata": {},
   "outputs": [],
   "source": [
    "predictions = text_clf_nb.predict(X_test)"
   ]
  },
  {
   "cell_type": "code",
   "execution_count": 22,
   "metadata": {},
   "outputs": [
    {
     "name": "stdout",
     "output_type": "stream",
     "text": [
      "[[287  21]\n",
      " [130 202]]\n"
     ]
    }
   ],
   "source": [
    "from sklearn import metrics\n",
    "print(metrics.confusion_matrix(y_test,predictions))"
   ]
  },
  {
   "cell_type": "code",
   "execution_count": 23,
   "metadata": {},
   "outputs": [
    {
     "name": "stdout",
     "output_type": "stream",
     "text": [
      "              precision    recall  f1-score   support\n",
      "\n",
      "         neg       0.69      0.93      0.79       308\n",
      "         pos       0.91      0.61      0.73       332\n",
      "\n",
      "    accuracy                           0.76       640\n",
      "   macro avg       0.80      0.77      0.76       640\n",
      "weighted avg       0.80      0.76      0.76       640\n",
      "\n"
     ]
    }
   ],
   "source": [
    "print(metrics.classification_report(y_test,predictions))"
   ]
  },
  {
   "cell_type": "code",
   "execution_count": 24,
   "metadata": {},
   "outputs": [
    {
     "name": "stdout",
     "output_type": "stream",
     "text": [
      "0.7640625\n"
     ]
    }
   ],
   "source": [
    "print(metrics.accuracy_score(y_test,predictions))"
   ]
  },
  {
   "cell_type": "code",
   "execution_count": 25,
   "metadata": {},
   "outputs": [
    {
     "data": {
      "text/plain": [
       "Pipeline(memory=None,\n",
       "         steps=[('tfidf',\n",
       "                 TfidfVectorizer(analyzer='word', binary=False,\n",
       "                                 decode_error='strict',\n",
       "                                 dtype=<class 'numpy.float64'>,\n",
       "                                 encoding='utf-8', input='content',\n",
       "                                 lowercase=True, max_df=1.0, max_features=None,\n",
       "                                 min_df=1, ngram_range=(1, 1), norm='l2',\n",
       "                                 preprocessor=None, smooth_idf=True,\n",
       "                                 stop_words=None, strip_accents=None,\n",
       "                                 sublinear_tf=False,\n",
       "                                 token_pattern='(?u)\\\\b\\\\w\\\\w+\\\\b',\n",
       "                                 tokenizer=None, use_idf=True,\n",
       "                                 vocabulary=None)),\n",
       "                ('clf',\n",
       "                 LinearSVC(C=1.0, class_weight=None, dual=True,\n",
       "                           fit_intercept=True, intercept_scaling=1,\n",
       "                           loss='squared_hinge', max_iter=1000,\n",
       "                           multi_class='ovr', penalty='l2', random_state=None,\n",
       "                           tol=0.0001, verbose=0))],\n",
       "         verbose=False)"
      ]
     },
     "execution_count": 25,
     "metadata": {},
     "output_type": "execute_result"
    }
   ],
   "source": [
    "text_clf_lsvc.fit(X_train, y_train)"
   ]
  },
  {
   "cell_type": "code",
   "execution_count": 26,
   "metadata": {},
   "outputs": [],
   "source": [
    "predictions = text_clf_lsvc.predict(X_test)"
   ]
  },
  {
   "cell_type": "code",
   "execution_count": 27,
   "metadata": {},
   "outputs": [
    {
     "name": "stdout",
     "output_type": "stream",
     "text": [
      "[[259  49]\n",
      " [ 49 283]]\n"
     ]
    }
   ],
   "source": [
    "print(metrics.confusion_matrix(y_test,predictions))"
   ]
  },
  {
   "cell_type": "code",
   "execution_count": 28,
   "metadata": {},
   "outputs": [
    {
     "name": "stdout",
     "output_type": "stream",
     "text": [
      "              precision    recall  f1-score   support\n",
      "\n",
      "         neg       0.84      0.84      0.84       308\n",
      "         pos       0.85      0.85      0.85       332\n",
      "\n",
      "    accuracy                           0.85       640\n",
      "   macro avg       0.85      0.85      0.85       640\n",
      "weighted avg       0.85      0.85      0.85       640\n",
      "\n"
     ]
    }
   ],
   "source": [
    "print(metrics.classification_report(y_test,predictions))"
   ]
  },
  {
   "cell_type": "code",
   "execution_count": 29,
   "metadata": {},
   "outputs": [
    {
     "name": "stdout",
     "output_type": "stream",
     "text": [
      "0.846875\n"
     ]
    }
   ],
   "source": [
    "print(metrics.accuracy_score(y_test,predictions))"
   ]
  }
 ],
 "metadata": {
  "kernelspec": {
   "display_name": "Python 3",
   "language": "python",
   "name": "python3"
  },
  "language_info": {
   "codemirror_mode": {
    "name": "ipython",
    "version": 3
   },
   "file_extension": ".py",
   "mimetype": "text/x-python",
   "name": "python",
   "nbconvert_exporter": "python",
   "pygments_lexer": "ipython3",
   "version": "3.7.6"
  }
 },
 "nbformat": 4,
 "nbformat_minor": 4
}
